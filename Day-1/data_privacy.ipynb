{
 "cells": [
  {
   "cell_type": "code",
   "execution_count": 1,
   "id": "06e540f9-6f37-4697-8bed-ec29ce6962da",
   "metadata": {},
   "outputs": [],
   "source": [
    "from flwr.client.mod import adaptiveclipping_mod\n",
    "from flwr.server.strategy import (\n",
    "    DifferentialPrivacyClientSideAdaptiveClipping,\n",
    "    FedAvg,\n",
    ")\n",
    "\n",
    "from utils4 import *"
   ]
  },
  {
   "cell_type": "code",
   "execution_count": 2,
   "id": "3d3566cf-45fd-4fbe-9ffc-72e38cab8533",
   "metadata": {},
   "outputs": [],
   "source": [
    "def load_data(partition_id):\n",
    "    fds = FederatedDataset(dataset=\"mnist\", partitioners={\"train\": 10})\n",
    "    partition = fds.load_partition(partition_id)\n",
    "\n",
    "    traintest = partition.train_test_split(test_size=0.2, seed=42)\n",
    "    traintest = traintest.with_transform(normalize)\n",
    "    trainset, testset = traintest[\"train\"], traintest[\"test\"]\n",
    "\n",
    "    trainloader = DataLoader(trainset, batch_size=64, shuffle=True)\n",
    "    testloader = DataLoader(testset, batch_size=64)\n",
    "    return trainloader, testloader"
   ]
  },
  {
   "cell_type": "code",
   "execution_count": 3,
   "id": "e02be43f-0277-4312-a64b-53de855a90d3",
   "metadata": {},
   "outputs": [],
   "source": [
    "class FlowerClient(NumPyClient):\n",
    "    def __init__(self, net, trainloader, testloader):\n",
    "        self.net = net\n",
    "        self.trainloader = trainloader\n",
    "        self.testloader = testloader\n",
    "\n",
    "    def fit(self, parameters, config):\n",
    "        set_weights(self.net, parameters)\n",
    "        train_model(self.net, self.trainloader)\n",
    "        return get_weights(self.net), len(self.trainloader), {}\n",
    "\n",
    "    def evaluate(self, parameters, config):\n",
    "        set_weights(self.net, parameters)\n",
    "        loss, accuracy = evaluate_model(self.net, self.testloader)\n",
    "        return loss, len(self.testloader), {\"accuracy\": accuracy}\n",
    "\n",
    "\n",
    "def client_fn(context: Context) -> Client:\n",
    "    net = SimpleModel()\n",
    "    partition_id = int(context.node_config[\"partition-id\"])\n",
    "    trainloader, testloader = load_data(partition_id=partition_id)\n",
    "    return FlowerClient(net, trainloader, testloader).to_client()"
   ]
  },
  {
   "cell_type": "code",
   "execution_count": 4,
   "id": "337fe679-deaa-46f6-a593-76771ebf0930",
   "metadata": {},
   "outputs": [],
   "source": [
    "client = ClientApp(\n",
    "    client_fn,\n",
    "    mods=[adaptiveclipping_mod],  # modifiers\n",
    ")"
   ]
  },
  {
   "cell_type": "code",
   "execution_count": 5,
   "id": "727ef763-3d2f-4d67-90b6-11672441ce75",
   "metadata": {},
   "outputs": [],
   "source": [
    "net = SimpleModel()\n",
    "params = ndarrays_to_parameters(get_weights(net))\n",
    "\n",
    "def server_fn(context: Context):\n",
    "    fedavg_without_dp = FedAvg(\n",
    "        fraction_fit=0.6,\n",
    "        fraction_evaluate=1.0,\n",
    "        initial_parameters=params,\n",
    "    )\n",
    "    fedavg_with_dp = DifferentialPrivacyClientSideAdaptiveClipping(\n",
    "        fedavg_without_dp,  # <- wrap the FedAvg strategy\n",
    "        noise_multiplier=0.3,\n",
    "        num_sampled_clients=6,\n",
    "    )\n",
    "    \n",
    "    # Adjust to 50 rounds to ensure DP guarantees hold\n",
    "    # with respect to the desired privacy budget\n",
    "    config = ServerConfig(num_rounds=5)\n",
    "    \n",
    "    return ServerAppComponents(\n",
    "        strategy=fedavg_with_dp,\n",
    "        config=config,\n",
    "    )"
   ]
  },
  {
   "cell_type": "code",
   "execution_count": 7,
   "id": "fcc71b22-bd46-48e2-b6bc-6188ea512fea",
   "metadata": {},
   "outputs": [],
   "source": [
    "server = ServerApp(server_fn=server_fn)"
   ]
  },
  {
   "cell_type": "code",
   "execution_count": 8,
   "id": "db687ea8-e398-4622-a545-959b0fa610ef",
   "metadata": {},
   "outputs": [
    {
     "name": "stderr",
     "output_type": "stream",
     "text": [
      "\u001b[92mINFO \u001b[0m: Starting Flower ServerApp, config: num_rounds=5, no round_timeout\n",
      "\u001b[92mINFO \u001b[0m: \n",
      "\u001b[92mINFO \u001b[0m: [INIT]\n",
      "\u001b[92mINFO \u001b[0m: Using initial global parameters provided by strategy\n",
      "\u001b[92mINFO \u001b[0m: Evaluating initial global parameters\n",
      "\u001b[92mINFO \u001b[0m: \n",
      "\u001b[92mINFO \u001b[0m: [ROUND 1]\n",
      "\u001b[92mINFO \u001b[0m: configure_fit: strategy sampled 6 clients (out of 10)\n",
      "\u001b[2m\u001b[36m(ClientAppActor pid=89326)\u001b[0m \u001b[92mINFO \u001b[0m: adaptiveclipping_mod: parameters are clipped by value: 0.1000.\n",
      "\u001b[2m\u001b[36m(ClientAppActor pid=89326)\u001b[0m \u001b[92mINFO \u001b[0m: adaptiveclipping_mod: parameters are clipped by value: 0.1000.\u001b[32m [repeated 5x across cluster] (Ray deduplicates logs by default. Set RAY_DEDUP_LOGS=0 to disable log deduplication, or see https://docs.ray.io/en/master/ray-observability/ray-logging.html#log-deduplication for more options.)\u001b[0m\n",
      "\u001b[92mINFO \u001b[0m: aggregate_fit: received 6 results and 0 failures\n",
      "\u001b[92mINFO \u001b[0m: aggregate_fit: central DP noise with 0.0052 stdev added\n",
      "\u001b[92mINFO \u001b[0m: configure_evaluate: strategy sampled 10 clients (out of 10)\n",
      "\u001b[92mINFO \u001b[0m: aggregate_evaluate: received 10 results and 0 failures\n",
      "\u001b[92mINFO \u001b[0m: \n",
      "\u001b[92mINFO \u001b[0m: [ROUND 2]\n",
      "\u001b[92mINFO \u001b[0m: configure_fit: strategy sampled 6 clients (out of 10)\n",
      "\u001b[2m\u001b[36m(ClientAppActor pid=89326)\u001b[0m \u001b[92mINFO \u001b[0m: adaptiveclipping_mod: parameters are clipped by value: 0.0897.\n",
      "\u001b[2m\u001b[36m(ClientAppActor pid=89324)\u001b[0m \u001b[92mINFO \u001b[0m: adaptiveclipping_mod: parameters are clipped by value: 0.0897.\n",
      "\u001b[2m\u001b[36m(ClientAppActor pid=89324)\u001b[0m \u001b[92mINFO \u001b[0m: adaptiveclipping_mod: parameters are clipped by value: 0.0897.\u001b[32m [repeated 4x across cluster]\u001b[0m\n",
      "\u001b[92mINFO \u001b[0m: aggregate_fit: received 6 results and 0 failures\n",
      "\u001b[92mINFO \u001b[0m: aggregate_fit: central DP noise with 0.0046 stdev added\n",
      "\u001b[92mINFO \u001b[0m: configure_evaluate: strategy sampled 10 clients (out of 10)\n",
      "\u001b[92mINFO \u001b[0m: aggregate_evaluate: received 10 results and 0 failures\n",
      "\u001b[92mINFO \u001b[0m: \n",
      "\u001b[92mINFO \u001b[0m: [ROUND 3]\n",
      "\u001b[92mINFO \u001b[0m: configure_fit: strategy sampled 6 clients (out of 10)\n",
      "\u001b[2m\u001b[36m(ClientAppActor pid=89325)\u001b[0m \u001b[92mINFO \u001b[0m: adaptiveclipping_mod: parameters are clipped by value: 0.0800.\n",
      "\u001b[2m\u001b[36m(ClientAppActor pid=89326)\u001b[0m \u001b[92mINFO \u001b[0m: adaptiveclipping_mod: parameters are clipped by value: 0.0800.\n",
      "\u001b[2m\u001b[36m(ClientAppActor pid=89325)\u001b[0m \u001b[92mINFO \u001b[0m: adaptiveclipping_mod: parameters are clipped by value: 0.0800.\u001b[32m [repeated 4x across cluster]\u001b[0m\n",
      "\u001b[92mINFO \u001b[0m: aggregate_fit: received 6 results and 0 failures\n",
      "\u001b[92mINFO \u001b[0m: aggregate_fit: central DP noise with 0.0041 stdev added\n",
      "\u001b[92mINFO \u001b[0m: configure_evaluate: strategy sampled 10 clients (out of 10)\n",
      "\u001b[92mINFO \u001b[0m: aggregate_evaluate: received 10 results and 0 failures\n",
      "\u001b[92mINFO \u001b[0m: \n",
      "\u001b[92mINFO \u001b[0m: [ROUND 4]\n",
      "\u001b[92mINFO \u001b[0m: configure_fit: strategy sampled 6 clients (out of 10)\n",
      "\u001b[2m\u001b[36m(ClientAppActor pid=89326)\u001b[0m \u001b[92mINFO \u001b[0m: adaptiveclipping_mod: parameters are clipped by value: 0.0717.\n",
      "\u001b[2m\u001b[36m(ClientAppActor pid=89327)\u001b[0m \u001b[92mINFO \u001b[0m: adaptiveclipping_mod: parameters are clipped by value: 0.0717.\n",
      "\u001b[2m\u001b[36m(ClientAppActor pid=89326)\u001b[0m \u001b[92mINFO \u001b[0m: adaptiveclipping_mod: parameters are clipped by value: 0.0717.\u001b[32m [repeated 4x across cluster]\u001b[0m\n",
      "\u001b[92mINFO \u001b[0m: aggregate_fit: received 6 results and 0 failures\n",
      "\u001b[92mINFO \u001b[0m: aggregate_fit: central DP noise with 0.0037 stdev added\n",
      "\u001b[92mINFO \u001b[0m: configure_evaluate: strategy sampled 10 clients (out of 10)\n",
      "\u001b[92mINFO \u001b[0m: aggregate_evaluate: received 10 results and 0 failures\n",
      "\u001b[92mINFO \u001b[0m: \n",
      "\u001b[92mINFO \u001b[0m: [ROUND 5]\n",
      "\u001b[92mINFO \u001b[0m: configure_fit: strategy sampled 6 clients (out of 10)\n",
      "\u001b[2m\u001b[36m(ClientAppActor pid=89327)\u001b[0m \u001b[92mINFO \u001b[0m: adaptiveclipping_mod: parameters are clipped by value: 0.0648.\n",
      "\u001b[2m\u001b[36m(ClientAppActor pid=89324)\u001b[0m \u001b[92mINFO \u001b[0m: adaptiveclipping_mod: parameters are clipped by value: 0.0648.\n",
      "\u001b[2m\u001b[36m(ClientAppActor pid=89327)\u001b[0m \u001b[92mINFO \u001b[0m: adaptiveclipping_mod: parameters are clipped by value: 0.0648.\u001b[32m [repeated 4x across cluster]\u001b[0m\n",
      "\u001b[92mINFO \u001b[0m: aggregate_fit: received 6 results and 0 failures\n",
      "\u001b[92mINFO \u001b[0m: aggregate_fit: central DP noise with 0.0034 stdev added\n",
      "\u001b[92mINFO \u001b[0m: configure_evaluate: strategy sampled 10 clients (out of 10)\n",
      "\u001b[92mINFO \u001b[0m: aggregate_evaluate: received 10 results and 0 failures\n",
      "\u001b[92mINFO \u001b[0m: \n",
      "\u001b[92mINFO \u001b[0m: [SUMMARY]\n",
      "\u001b[92mINFO \u001b[0m: Run finished 5 round(s) in 139.31s\n",
      "\u001b[92mINFO \u001b[0m: \tHistory (loss, distributed):\n",
      "\u001b[92mINFO \u001b[0m: \t\tround 1: 43.43318159580231\n",
      "\u001b[92mINFO \u001b[0m: \t\tround 2: 42.56554148197174\n",
      "\u001b[92mINFO \u001b[0m: \t\tround 3: 41.457706332206726\n",
      "\u001b[92mINFO \u001b[0m: \t\tround 4: 40.701835656166075\n",
      "\u001b[92mINFO \u001b[0m: \t\tround 5: 40.087636303901675\n",
      "\u001b[92mINFO \u001b[0m: \n"
     ]
    }
   ],
   "source": [
    "run_simulation(server_app=server,\n",
    "               client_app=client,\n",
    "               num_supernodes=10,\n",
    "               backend_config=backend_setup\n",
    "               )"
   ]
  },
  {
   "cell_type": "code",
   "execution_count": null,
   "id": "cec48d28-db4f-42e8-b4e3-ae61cf796c84",
   "metadata": {},
   "outputs": [],
   "source": []
  }
 ],
 "metadata": {
  "kernelspec": {
   "display_name": "Python 3 (ipykernel)",
   "language": "python",
   "name": "python3"
  },
  "language_info": {
   "codemirror_mode": {
    "name": "ipython",
    "version": 3
   },
   "file_extension": ".py",
   "mimetype": "text/x-python",
   "name": "python",
   "nbconvert_exporter": "python",
   "pygments_lexer": "ipython3",
   "version": "3.11.10"
  }
 },
 "nbformat": 4,
 "nbformat_minor": 5
}
